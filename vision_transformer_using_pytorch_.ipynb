{
  "nbformat": 4,
  "nbformat_minor": 0,
  "metadata": {
    "colab": {
      "provenance": [],
      "gpuType": "T4",
      "authorship_tag": "ABX9TyMpJ81RwtxoOamJXigvK/Xb",
      "include_colab_link": true
    },
    "kernelspec": {
      "name": "python3",
      "display_name": "Python 3"
    },
    "language_info": {
      "name": "python"
    },
    "accelerator": "GPU"
  },
  "cells": [
    {
      "cell_type": "markdown",
      "metadata": {
        "id": "view-in-github",
        "colab_type": "text"
      },
      "source": [
        "<a href=\"https://colab.research.google.com/github/Hisernberg/linkdin-projects/blob/main/vision_transformer_using_pytorch_.ipynb\" target=\"_parent\"><img src=\"https://colab.research.google.com/assets/colab-badge.svg\" alt=\"Open In Colab\"/></a>"
      ]
    },
    {
      "cell_type": "code",
      "execution_count": 32,
      "metadata": {
        "id": "kCBBNa1WwrWa"
      },
      "outputs": [],
      "source": [
        "import torch\n",
        "import torchvision\n",
        "import matplotlib.pyplot as plt\n",
        "import torchvision.transforms as transforms\n",
        "import torch.utils.data as dataloder\n",
        "import torch.nn as nn\n",
        "from torch.optim.lr_scheduler import LambdaLR\n"
      ]
    },
    {
      "cell_type": "code",
      "source": [
        "tranformation_operation = transforms.Compose([transforms.ToTensor()])"
      ],
      "metadata": {
        "id": "vle5KH6ZEHuC"
      },
      "execution_count": 33,
      "outputs": []
    },
    {
      "cell_type": "code",
      "source": [
        "train_dataset = torchvision.datasets.MNIST(root='./data', train = True, download=True, transform= tranformation_operation)\n"
      ],
      "metadata": {
        "id": "8BzSa5RIRhPP"
      },
      "execution_count": 34,
      "outputs": []
    },
    {
      "cell_type": "code",
      "source": [
        "val_dataset = torchvision.datasets.MNIST(root='./data', train = False, download=True, transform= tranformation_operation)"
      ],
      "metadata": {
        "id": "eIqUjF86FO31"
      },
      "execution_count": 35,
      "outputs": []
    },
    {
      "cell_type": "code",
      "source": [
        "train_data = dataloder.DataLoader(train_dataset, batch_size=batch_size, shuffle=True)\n",
        "val_data =dataloder.DataLoader(val_dataset, batch_size=batch_size, shuffle=True)"
      ],
      "metadata": {
        "id": "yQl0VthxFY3k"
      },
      "execution_count": 36,
      "outputs": []
    },
    {
      "cell_type": "code",
      "source": [
        "batch_size = 64\n",
        "number_classes = 10\n",
        "image_size = 28\n",
        "patch_size = 7\n",
        "number_of_patches = (image_size // patch_size) **2\n",
        "attention_head = 4\n",
        "embedding_dim= 16\n",
        "transformer_blocks=4\n",
        "mlp_nodes = 64\n",
        "number_channels =1\n",
        "epoch = 5"
      ],
      "metadata": {
        "id": "q5HfdFjqGly6"
      },
      "execution_count": 52,
      "outputs": []
    },
    {
      "cell_type": "code",
      "source": [
        "#patch embedding\n",
        "class patch_embedding(nn.Module):\n",
        "    def __init__(self):\n",
        "        super().__init__()\n",
        "        self.patch_embed = nn.Conv2d(number_channels, embedding_dim, kernel_size=patch_size, stride=patch_size)\n",
        "\n",
        "\n",
        "    def forward(self,x):\n",
        "       x=self.patch_embed(x)\n",
        "       x=x.flatten(2)\n",
        "       x=x.transpose(1,2)\n",
        "       return x\n",
        "\n"
      ],
      "metadata": {
        "id": "Tac8-JyuKTva"
      },
      "execution_count": 38,
      "outputs": []
    },
    {
      "cell_type": "code",
      "source": [
        "#mlp head for classification\n",
        "class MLP_Head(nn.Module):\n",
        "    def __init__(self):\n",
        "        super().__init__()\n",
        "        self.layernorm1 = nn.LayerNorm(embedding_dim)\n",
        "        self.mlp_head = nn.Sequential(\n",
        "            nn.LayerNorm(embedding_dim),\n",
        "            nn.Linear(embedding_dim, number_classes)\n",
        "        )\n",
        "    def forward(self, x):\n",
        "      #x=x[:,0]\n",
        "      x=self.layernorm1(x)\n",
        "      x=self.mlp_head(x)\n",
        "      return x"
      ],
      "metadata": {
        "id": "hbZ53nf9JOzM"
      },
      "execution_count": 39,
      "outputs": []
    },
    {
      "cell_type": "code",
      "source": [
        "#transformer encoder class\n",
        "#layer normalization\n",
        "#mlp attention\n",
        "#layer normalization\n",
        "#residual\n",
        "#mlp - activation function\n",
        "\n",
        "class transformer_encoder(nn.Module):\n",
        "    def __init__(self):\n",
        "        super().__init__()\n",
        "        self.layer_norm1 = nn.LayerNorm(embedding_dim)\n",
        "        self.multi_attention = nn.MultiheadAttention(embedding_dim, attention_head,batch_first = True)\n",
        "        self.layer_norm2 = nn.LayerNorm(embedding_dim)\n",
        "        self.mlp = nn.Sequential(\n",
        "            nn.Linear(embedding_dim, mlp_nodes),\n",
        "            nn.GELU(),\n",
        "            nn.Linear(mlp_nodes, embedding_dim),\n",
        "            nn.GELU(),\n",
        "            nn.Linear(embedding_dim, embedding_dim),\n",
        "        )\n",
        "\n",
        "\n",
        "    def forward(self,x):\n",
        "       residual1 = x\n",
        "       x = self.layer_norm1(x)\n",
        "       x = self.multi_attention(x, x, x)[0]\n",
        "       x = residual1 + x\n",
        "\n",
        "       residual2 = x\n",
        "       x = self.layer_norm2(x)\n",
        "       x = self.mlp(x)\n",
        "       x = residual2 + x\n",
        "       return x"
      ],
      "metadata": {
        "id": "gOr_0MyxIvpd"
      },
      "execution_count": 40,
      "outputs": []
    },
    {
      "cell_type": "code",
      "source": [
        "class vision_transformer(nn.Module):\n",
        "    def __init__(self):\n",
        "        super().__init__()\n",
        "        self.patch_embedding = patch_embedding()\n",
        "        self.position_embedding = nn.Parameter(torch.randn(1, number_of_patches+1, embedding_dim))\n",
        "        self.class_token = nn.Parameter(torch.randn(1, 1, embedding_dim))\n",
        "        self.transformer_encoder = nn.Sequential(*[transformer_encoder() for _ in range(transformer_blocks)])\n",
        "        self.mlp_head = MLP_Head()\n",
        "\n",
        "    def forward(self,x):\n",
        "        x = self.patch_embedding(x)\n",
        "        b=x.shape[0]\n",
        "        cls_token = self.class_token.expand(b, -1, -1)\n",
        "        x = torch.cat((cls_token, x), dim=1)\n",
        "        x = x + self.position_embedding\n",
        "        x = self.transformer_encoder(x)\n",
        "        x=x[:,0]\n",
        "        x = self.mlp_head(x)\n",
        "        return x"
      ],
      "metadata": {
        "id": "lEsIpI92GR2N"
      },
      "execution_count": 41,
      "outputs": []
    },
    {
      "cell_type": "code",
      "source": [
        "#optimizer\n",
        "#cross entropy loss\n",
        "# device for cuda\n",
        "\n",
        "\n",
        "device = torch.device('cuda' if torch.cuda.is_available() else 'cpu')\n",
        "model = vision_transformer().to(device)\n",
        "optimizer = torch.optim.Adam(model.parameters(), lr=0.001)\n",
        "scheduler = torch.optim.lr_scheduler.StepLR(optimizer, step_size=5, gamma=0.5)\n",
        "criterion = nn.CrossEntropyLoss()\n",
        "\n"
      ],
      "metadata": {
        "id": "FnuYeVWxKAV-"
      },
      "execution_count": 42,
      "outputs": []
    },
    {
      "cell_type": "code",
      "source": [
        "for epoch in range(epoch):\n",
        "    train_loss = 0.0\n",
        "    correct = 0\n",
        "    total = 0\n",
        "    model.train()\n",
        "\n",
        "    for images, labels in train_data:\n",
        "        images, labels = images.to(device), labels.to(device)\n",
        "\n",
        "        optimizer.zero_grad()\n",
        "        outputs = model(images)\n",
        "        loss = criterion(outputs, labels)\n",
        "        loss.backward()\n",
        "        optimizer.step()\n",
        "\n",
        "        train_loss += loss.item()\n",
        "\n",
        "        # Predictions\n",
        "        _, predicted = torch.max(outputs.data, 1)\n",
        "        correct += (predicted == labels).sum().item()\n",
        "        total += labels.size(0)\n",
        "\n",
        "    scheduler.step()  # Step LR scheduler after each epoch\n",
        "\n",
        "    epoch_loss = train_loss / len(train_data)\n",
        "    epoch_acc = 100 * correct / total\n",
        "\n",
        "    print(f\"Epoch [{epoch+1}/{epoch}], Loss: {epoch_loss:.4f}, Accuracy: {epoch_acc:.2f}%\")"
      ],
      "metadata": {
        "id": "vw5lBrrHNSCr"
      },
      "execution_count": 59,
      "outputs": []
    },
    {
      "cell_type": "code",
      "source": [
        "print(f\"\\nTraining finished. Final Training Accuracy: {epoch_acc:.2f}%\")\n",
        "\n",
        "# Evaluation on validation set\n",
        "model.eval()\n",
        "val_correct = 0\n",
        "val_total = 0\n",
        "with torch.no_grad():\n",
        "    for images, labels in val_data:\n",
        "        images, labels = images.to(device), labels.to(device)\n",
        "        outputs = model(images)\n",
        "        _, predicted = torch.max(outputs.data, 1)\n",
        "        val_total += labels.size(0)\n",
        "        val_correct += (predicted == labels).sum().item()\n",
        "\n",
        "val_acc = 100 * val_correct / val_total\n",
        "print(f\"Validation Accuracy: {val_acc:.2f}%\")"
      ],
      "metadata": {
        "colab": {
          "base_uri": "https://localhost:8080/"
        },
        "id": "vlf3KCqgPXil",
        "outputId": "660d8dd1-c25e-45e9-cf38-4b57560c6621"
      },
      "execution_count": 60,
      "outputs": [
        {
          "output_type": "stream",
          "name": "stdout",
          "text": [
            "\n",
            "Training finished. Final Training Accuracy: 93.40%\n",
            "Validation Accuracy: 94.16%\n"
          ]
        }
      ]
    },
    {
      "cell_type": "markdown",
      "source": [
        "## optimizing the model using hyper perameters"
      ],
      "metadata": {
        "id": "oHQU0xCQUQ9c"
      }
    },
    {
      "cell_type": "code",
      "metadata": {
        "id": "fdeb1c75"
      },
      "source": [
        "import torch.profiler\n",
        "\n",
        "with torch.profiler.profile(\n",
        "    activities=[\n",
        "        torch.profiler.ProfilerActivity.CPU,\n",
        "        torch.profiler.ProfilerActivity.CUDA,\n",
        "    ],\n",
        "    on_trace_ready=torch.profiler.tensorboard_trace_handler('./log/mnist_vit_train'),\n",
        "    record_shapes=True,\n",
        "    profile_memory=True,\n",
        "    with_stack=True\n",
        ") as prof:\n",
        "    for epoch_i in range(epoch):\n",
        "        train_loss = 0.0\n",
        "        correct = 0\n",
        "        total = 0\n",
        "        model.train()\n",
        "\n",
        "        for images, labels in train_data:\n",
        "            prof.step()\n",
        "            images, labels = images.to(device), labels.to(device)\n",
        "\n",
        "            optimizer.zero_grad()\n",
        "            outputs = model(images)\n",
        "            loss = criterion(outputs, labels)\n",
        "            loss.backward()\n",
        "            optimizer.step()\n",
        "\n",
        "            train_loss += loss.item()\n",
        "\n",
        "            _, predicted = torch.max(outputs.data, 1)\n",
        "            correct += (predicted == labels).sum().item()\n",
        "            total += labels.size(0)\n",
        "\n",
        "        scheduler.step()\n",
        "\n",
        "        epoch_loss = train_loss / len(train_data)\n",
        "        epoch_acc = 100 * correct / total\n",
        "\n",
        "        print(f\"Epoch [{epoch_i+1}/{epoch}], Loss: {epoch_loss:.4f}, Accuracy: {epoch_acc:.2f}%\")"
      ],
      "execution_count": 70,
      "outputs": []
    },
    {
      "cell_type": "code",
      "metadata": {
        "colab": {
          "base_uri": "https://localhost:8080/"
        },
        "id": "9b3307cf",
        "outputId": "05c1a700-8660-4459-941a-b63b727855a0"
      },
      "source": [
        "train_data = dataloder.DataLoader(train_dataset, batch_size=batch_size, shuffle=True, num_workers=4, pin_memory=True)\n",
        "val_data = dataloder.DataLoader(val_dataset, batch_size=batch_size, shuffle=True, num_workers=4, pin_memory=True)"
      ],
      "execution_count": 62,
      "outputs": [
        {
          "output_type": "stream",
          "name": "stderr",
          "text": [
            "/usr/local/lib/python3.11/dist-packages/torch/utils/data/dataloader.py:624: UserWarning: This DataLoader will create 4 worker processes in total. Our suggested max number of worker in current system is 2, which is smaller than what this DataLoader is going to create. Please be aware that excessive worker creation might get DataLoader running slow or even freeze, lower the worker number to avoid potential slowness/freeze if necessary.\n",
            "  warnings.warn(\n"
          ]
        }
      ]
    },
    {
      "cell_type": "markdown",
      "metadata": {
        "id": "a1c4d8ef"
      },
      "source": [
        "## Model optimization\n",
        "\n",
        "Consider techniques like mixed precision training, gradient accumulation, or model pruning.\n"
      ]
    },
    {
      "cell_type": "code",
      "metadata": {
        "colab": {
          "base_uri": "https://localhost:8080/"
        },
        "id": "ff9553d3",
        "outputId": "ee374286-ee19-41bb-a3ba-3846f67c386f"
      },
      "source": [
        "from torch.cuda.amp import GradScaler, autocast\n",
        "\n",
        "scaler = GradScaler()\n",
        "\n",
        "for epoch in range(epoch):\n",
        "    train_loss = 0.0\n",
        "    correct = 0\n",
        "    total = 0\n",
        "    model.train()\n",
        "\n",
        "    for images, labels in train_data:\n",
        "        images, labels = images.to(device), labels.to(device)\n",
        "\n",
        "        optimizer.zero_grad()\n",
        "        with autocast():\n",
        "            outputs = model(images)\n",
        "            loss = criterion(outputs, labels)\n",
        "\n",
        "        scaler.scale(loss).backward()\n",
        "        scaler.step(optimizer)\n",
        "        scaler.update()\n",
        "\n",
        "        train_loss += loss.item()\n",
        "\n",
        "        _, predicted = torch.max(outputs.data, 1)\n",
        "        correct += (predicted == labels).sum().item()\n",
        "        total += labels.size(0)\n",
        "\n",
        "    scheduler.step()\n",
        "\n",
        "    epoch_loss = train_loss / len(train_data)\n",
        "    epoch_acc = 100 * correct / total\n",
        "\n",
        "    print(f\"Epoch [{epoch+1}/{epoch}], Loss: {epoch_loss:.4f}, Accuracy: {epoch_acc:.2f}%\")\n",
        "\n",
        "print(f\"\\nTraining finished. Final Training Accuracy: {epoch_acc:.2f}%\")\n",
        "\n",
        "model.eval()\n",
        "val_correct = 0\n",
        "val_total = 0\n",
        "with torch.no_grad():\n",
        "    for images, labels in val_data:\n",
        "        images, labels = images.to(device), labels.to(device)\n",
        "        with autocast():\n",
        "            outputs = model(images)\n",
        "        _, predicted = torch.max(outputs.data, 1)\n",
        "        val_total += labels.size(0)\n",
        "        val_correct += (predicted == labels).sum().item()\n",
        "\n",
        "val_acc = 100 * val_correct / val_total\n",
        "print(f\"Validation Accuracy: {val_acc:.2f}%\")"
      ],
      "execution_count": 63,
      "outputs": [
        {
          "output_type": "stream",
          "name": "stdout",
          "text": [
            "\n",
            "Training finished. Final Training Accuracy: 93.40%\n"
          ]
        },
        {
          "output_type": "stream",
          "name": "stderr",
          "text": [
            "/tmp/ipython-input-63-3867750478.py:3: FutureWarning: `torch.cuda.amp.GradScaler(args...)` is deprecated. Please use `torch.amp.GradScaler('cuda', args...)` instead.\n",
            "  scaler = GradScaler()\n",
            "/usr/local/lib/python3.11/dist-packages/torch/utils/data/dataloader.py:624: UserWarning: This DataLoader will create 4 worker processes in total. Our suggested max number of worker in current system is 2, which is smaller than what this DataLoader is going to create. Please be aware that excessive worker creation might get DataLoader running slow or even freeze, lower the worker number to avoid potential slowness/freeze if necessary.\n",
            "  warnings.warn(\n",
            "/tmp/ipython-input-63-3867750478.py:44: FutureWarning: `torch.cuda.amp.autocast(args...)` is deprecated. Please use `torch.amp.autocast('cuda', args...)` instead.\n",
            "  with autocast():\n"
          ]
        },
        {
          "output_type": "stream",
          "name": "stdout",
          "text": [
            "Validation Accuracy: 94.16%\n"
          ]
        }
      ]
    },
    {
      "cell_type": "markdown",
      "metadata": {
        "id": "0c54ea4f"
      },
      "source": [
        "## Hardware optimization\n",
        "Ensure you are utilizing your hardware effectively, potentially by adjusting batch size or using multiple GPUs if available.\n"
      ]
    },
    {
      "cell_type": "code",
      "metadata": {
        "colab": {
          "base_uri": "https://localhost:8080/"
        },
        "id": "be6e4225",
        "outputId": "7cf97ecd-8463-4808-e632-a52ad600ea06"
      },
      "source": [
        "import torch\n",
        "\n",
        "if torch.cuda.is_available():\n",
        "    print(f\"CUDA is available. Using GPU: {torch.cuda.get_device_name(0)}\")\n",
        "\n",
        "else:\n",
        "    print(\"CUDA is not available. Using CPU.\")\n",
        "\n",
        "train_data = dataloder.DataLoader(train_dataset, batch_size=batch_size, shuffle=True, num_workers=2, pin_memory=True)\n",
        "val_data = dataloder.DataLoader(val_dataset, batch_size=batch_size, shuffle=True, num_workers=2, pin_memory=True)\n",
        "\n",
        "print(f\"Using batch size: {batch_size}\")\n"
      ],
      "execution_count": 64,
      "outputs": [
        {
          "output_type": "stream",
          "name": "stdout",
          "text": [
            "CUDA is available. Using GPU: Tesla T4\n",
            "Using batch size: 64\n"
          ]
        }
      ]
    },
    {
      "cell_type": "code",
      "metadata": {
        "colab": {
          "base_uri": "https://localhost:8080/"
        },
        "id": "29618333",
        "outputId": "8c72b430-161b-462d-f279-28d03baaf4d9"
      },
      "source": [
        "import torch\n",
        "import torch.nn as nn\n",
        "from torch.optim import AdamW, SGD\n",
        "from torch.optim.lr_scheduler import StepLR\n",
        "from torch.cuda.amp import GradScaler, autocast\n",
        "import copy\n",
        "\n",
        "\n",
        "hyperparameter_combinations = [\n",
        "    {'lr': 0.001, 'optimizer': 'AdamW', 'step_size': 5, 'gamma': 0.5},\n",
        "    {'lr': 0.01, 'optimizer': 'AdamW', 'step_size': 5, 'gamma': 0.5},\n",
        "    {'lr': 0.001, 'optimizer': 'SGD', 'step_size': 5, 'gamma': 0.5},\n",
        "    {'lr': 0.01, 'optimizer': 'SGD', 'step_size': 5, 'gamma': 0.5},\n",
        "]\n",
        "\n",
        "best_val_accuracy = 0.0\n",
        "best_hyperparameters = None\n",
        "results = []\n",
        "\n",
        "experiment_epochs = 3\n",
        "\n",
        "for i, combo in enumerate(hyperparameter_combinations):\n",
        "    print(f\"Experiment {i+1}/{len(hyperparameter_combinations)} with hyperparameters: {combo}\")\n",
        "\n",
        "\n",
        "    model = vision_transformer().to(device)\n",
        "\n",
        "    if combo['optimizer'] == 'AdamW':\n",
        "        optimizer = AdamW(model.parameters(), lr=combo['lr'])\n",
        "    elif combo['optimizer'] == 'SGD':\n",
        "        optimizer = SGD(model.parameters(), lr=combo['lr'])\n",
        "    else:\n",
        "        raise ValueError(\"Unsupported optimizer\")\n",
        "\n",
        "    scheduler = StepLR(optimizer, step_size=combo['step_size'], gamma=combo['gamma'])\n",
        "    criterion = nn.CrossEntropyLoss()\n",
        "    scaler = GradScaler()\n",
        "\n",
        "    for epoch_i in range(experiment_epochs):\n",
        "        model.train()\n",
        "        train_loss = 0.0\n",
        "        correct = 0\n",
        "        total = 0\n",
        "        for images, labels in train_data:\n",
        "            images, labels = images.to(device), labels.to(device)\n",
        "\n",
        "            optimizer.zero_grad()\n",
        "            with autocast():\n",
        "                outputs = model(images)\n",
        "                loss = criterion(outputs, labels)\n",
        "\n",
        "            scaler.scale(loss).backward()\n",
        "            scaler.step(optimizer)\n",
        "            scaler.update()\n",
        "\n",
        "            train_loss += loss.item()\n",
        "\n",
        "            _, predicted = torch.max(outputs.data, 1)\n",
        "            correct += (predicted == labels).sum().item()\n",
        "            total += labels.size(0)\n",
        "\n",
        "        scheduler.step()\n",
        "        epoch_loss = train_loss / len(train_data)\n",
        "        epoch_acc = 100 * correct / total\n",
        "        print(f\"  Epoch [{epoch_i+1}/{experiment_epochs}], Loss: {epoch_loss:.4f}, Accuracy: {epoch_acc:.2f}%\")\n",
        "\n",
        "\n",
        "    model.eval()\n",
        "    val_correct = 0\n",
        "    val_total = 0\n",
        "    with torch.no_grad():\n",
        "        with autocast():\n",
        "            for images, labels in val_data:\n",
        "                images, labels = images.to(device), labels.to(device)\n",
        "                outputs = model(images)\n",
        "                _, predicted = torch.max(outputs.data, 1)\n",
        "                val_total += labels.size(0)\n",
        "                val_correct += (predicted == labels).sum().item()\n",
        "\n",
        "    val_acc = 100 * val_correct / val_total\n",
        "    print(f\"  Validation Accuracy: {val_acc:.2f}%\")\n",
        "\n",
        "    results.append({'hyperparameters': combo, 'validation_accuracy': val_acc})\n",
        "\n",
        "    if val_acc > best_val_accuracy:\n",
        "        best_val_accuracy = val_acc\n",
        "        best_hyperparameters = combo\n",
        "\n",
        "print(\"\\n--- Experiment Summary ---\")\n",
        "for res in results:\n",
        "    print(f\"Hyperparameters: {res['hyperparameters']}, Validation Accuracy: {res['validation_accuracy']:.2f}%\")\n",
        "\n",
        "print(f\"\\nBest performing hyperparameters: {best_hyperparameters}\")\n",
        "print(f\"Best validation accuracy: {best_val_accuracy:.2f}%\")"
      ],
      "execution_count": 68,
      "outputs": [
        {
          "output_type": "stream",
          "name": "stdout",
          "text": [
            "Experiment 1/4 with hyperparameters: {'lr': 0.001, 'optimizer': 'AdamW', 'step_size': 5, 'gamma': 0.5}\n"
          ]
        },
        {
          "output_type": "stream",
          "name": "stderr",
          "text": [
            "/tmp/ipython-input-68-680585500.py:37: FutureWarning: `torch.cuda.amp.GradScaler(args...)` is deprecated. Please use `torch.amp.GradScaler('cuda', args...)` instead.\n",
            "  scaler = GradScaler()\n",
            "/tmp/ipython-input-68-680585500.py:48: FutureWarning: `torch.cuda.amp.autocast(args...)` is deprecated. Please use `torch.amp.autocast('cuda', args...)` instead.\n",
            "  with autocast():\n"
          ]
        },
        {
          "output_type": "stream",
          "name": "stdout",
          "text": [
            "  Epoch [1/3], Loss: 0.7484, Accuracy: 75.87%\n",
            "  Epoch [2/3], Loss: 0.2205, Accuracy: 93.42%\n",
            "  Epoch [3/3], Loss: 0.1653, Accuracy: 94.94%\n"
          ]
        },
        {
          "output_type": "stream",
          "name": "stderr",
          "text": [
            "/tmp/ipython-input-68-680585500.py:72: FutureWarning: `torch.cuda.amp.autocast(args...)` is deprecated. Please use `torch.amp.autocast('cuda', args...)` instead.\n",
            "  with autocast():\n"
          ]
        },
        {
          "output_type": "stream",
          "name": "stdout",
          "text": [
            "  Validation Accuracy: 94.37%\n",
            "Experiment 2/4 with hyperparameters: {'lr': 0.01, 'optimizer': 'AdamW', 'step_size': 5, 'gamma': 0.5}\n",
            "  Epoch [1/3], Loss: 0.4157, Accuracy: 86.83%\n",
            "  Epoch [2/3], Loss: 0.1914, Accuracy: 94.11%\n",
            "  Epoch [3/3], Loss: 0.1604, Accuracy: 95.08%\n",
            "  Validation Accuracy: 95.70%\n",
            "Experiment 3/4 with hyperparameters: {'lr': 0.001, 'optimizer': 'SGD', 'step_size': 5, 'gamma': 0.5}\n",
            "  Epoch [1/3], Loss: 2.3252, Accuracy: 11.15%\n",
            "  Epoch [2/3], Loss: 2.2982, Accuracy: 11.24%\n",
            "  Epoch [3/3], Loss: 2.2957, Accuracy: 11.24%\n",
            "  Validation Accuracy: 11.35%\n",
            "Experiment 4/4 with hyperparameters: {'lr': 0.01, 'optimizer': 'SGD', 'step_size': 5, 'gamma': 0.5}\n",
            "  Epoch [1/3], Loss: 2.2928, Accuracy: 14.09%\n",
            "  Epoch [2/3], Loss: 1.7678, Accuracy: 38.88%\n",
            "  Epoch [3/3], Loss: 0.7103, Accuracy: 79.47%\n",
            "  Validation Accuracy: 84.89%\n",
            "\n",
            "--- Experiment Summary ---\n",
            "Hyperparameters: {'lr': 0.001, 'optimizer': 'AdamW', 'step_size': 5, 'gamma': 0.5}, Validation Accuracy: 94.37%\n",
            "Hyperparameters: {'lr': 0.01, 'optimizer': 'AdamW', 'step_size': 5, 'gamma': 0.5}, Validation Accuracy: 95.70%\n",
            "Hyperparameters: {'lr': 0.001, 'optimizer': 'SGD', 'step_size': 5, 'gamma': 0.5}, Validation Accuracy: 11.35%\n",
            "Hyperparameters: {'lr': 0.01, 'optimizer': 'SGD', 'step_size': 5, 'gamma': 0.5}, Validation Accuracy: 84.89%\n",
            "\n",
            "Best performing hyperparameters: {'lr': 0.01, 'optimizer': 'AdamW', 'step_size': 5, 'gamma': 0.5}\n",
            "Best validation accuracy: 95.70%\n"
          ]
        }
      ]
    },
    {
      "cell_type": "code",
      "source": [
        "import matplotlib.pyplot as plt\n",
        "\n",
        "train_accuracies = []\n",
        "val_accuracies = []\n",
        "\n",
        "val_accuracies_from_experiments = [res['validation_accuracy'] for res in results]\n",
        "\n",
        "plt.figure(figsize=(10, 6))\n",
        "x_labels = [f\"{res['hyperparameters']['optimizer']} lr={res['hyperparameters']['lr']}\" for res in results]\n",
        "plt.bar(x_labels, val_accuracies_from_experiments, color='skyblue')\n",
        "plt.ylabel('Validation Accuracy (%)')\n",
        "plt.title('Validation Accuracy per Hyperparameter Combination')\n",
        "plt.xticks(rotation=45, ha='right')\n",
        "plt.tight_layout()\n",
        "plt.show()\n",
        "\n",
        "\n",
        "\n",
        "dataiter = iter(val_data)\n",
        "images, labels = next(dataiter)\n",
        "\n",
        "\n",
        "images = images.to(device)\n",
        "\n",
        "\n",
        "model.eval()\n",
        "with torch.no_grad():\n",
        "    outputs = model(images)\n",
        "\n",
        "\n",
        "_, predicted = torch.max(outputs.data, 1)\n",
        "\n",
        "\n",
        "num_images_to_show = 8\n",
        "fig = plt.figure(figsize=(15, 5))\n",
        "for i in range(num_images_to_show):\n",
        "    ax = fig.add_subplot(1, num_images_to_show, i+1)\n",
        "\n",
        "    img = images[i].cpu().numpy().squeeze()\n",
        "    plt.imshow(img, cmap='gray')\n",
        "    ax.set_title(f'Pred: {predicted[i].item()}\\nTrue: {labels[i].item()}', fontsize=10)\n",
        "    ax.axis('off')\n",
        "plt.tight_layout()\n",
        "plt.show()"
      ],
      "metadata": {
        "colab": {
          "base_uri": "https://localhost:8080/",
          "height": 777
        },
        "id": "m6dRdBb8Wqr-",
        "outputId": "d5a455bb-bfed-4a46-ca2c-fa86d4f81841"
      },
      "execution_count": 80,
      "outputs": [
        {
          "output_type": "display_data",
          "data": {
            "text/plain": [
              "<Figure size 1000x600 with 1 Axes>"
            ],
            "image/png": "[encoded data removed]"
          },
          "metadata": {}
        },
        {
          "output_type": "display_data",
          "data": {
            "text/plain": [
              "<Figure size 1500x500 with 8 Axes>"
            ],
            "image/png": "[encoded data removed]"
          },
          "metadata": {}
        }
      ]
    }
  ]
}